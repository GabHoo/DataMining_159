{
 "cells": [
  {
   "cell_type": "code",
   "execution_count": 2,
   "id": "f0e89718",
   "metadata": {},
   "outputs": [],
   "source": [
    "import pandas as pd\n",
    "import numpy as np\n",
    "\n",
    "df = pd.read_csv ('ODI-2022_pro.csv')\n",
    "\n",
    "#print(df.head())\n"
   ]
  },
  {
   "cell_type": "code",
   "execution_count": 2,
   "id": "88cad332",
   "metadata": {},
   "outputs": [],
   "source": [
    "#(df['What programme are you in?'].unique())"
   ]
  },
  {
   "cell_type": "code",
   "execution_count": 90,
   "id": "cf7fbdb3",
   "metadata": {},
   "outputs": [],
   "source": [
    "program=df['What programme are you in?'].values\n"
   ]
  },
  {
   "cell_type": "markdown",
   "id": "77077b61",
   "metadata": {},
   "source": [
    "assumptiion that those that did nto specify uva are from VU \n",
    "and that CS always means computerscience"
   ]
  },
  {
   "cell_type": "code",
   "execution_count": 5,
   "id": "b61046cb",
   "metadata": {},
   "outputs": [
    {
     "data": {
      "text/plain": [
       "'for i,n in enumerate(program):\\n    if \"biomo\" in n.lower():\\n        print(n)\\n'"
      ]
     },
     "execution_count": 5,
     "metadata": {},
     "output_type": "execute_result"
    }
   ],
   "source": [
    "\"\"\"for i,n in enumerate(program):\n",
    "    if \"biomo\" in n.lower():\n",
    "        print(n)\n",
    "\"\"\"\n",
    "       "
   ]
  },
  {
   "cell_type": "code",
   "execution_count": null,
   "id": "a6e0deed",
   "metadata": {},
   "outputs": [],
   "source": []
  },
  {
   "cell_type": "code",
   "execution_count": 3,
   "id": "90aed177",
   "metadata": {},
   "outputs": [],
   "source": [
    "stress=df[\"stress_processed\"].values\n",
    "#stress"
   ]
  },
  {
   "cell_type": "code",
   "execution_count": 22,
   "id": "a1e926a8",
   "metadata": {},
   "outputs": [],
   "source": [
    "for i,n in enumerate(stress):\n",
    "    if n==\"troll\" or n==\"-\":\n",
    "        continue\n",
    "    if float(n)>100:\n",
    "        stress[i]=\">100\""
   ]
  },
  {
   "cell_type": "code",
   "execution_count": 6,
   "id": "9b557eb8",
   "metadata": {},
   "outputs": [
    {
     "data": {
      "text/plain": [
       "Index(['Tijdstempel', 'What programme are you in?', 'program_processed',\n",
       "       'Have you taken a course on machine learning?',\n",
       "       'Have you taken a course on information retrieval?',\n",
       "       'Have you taken a course on statistics?',\n",
       "       'Have you taken a course on databases?', 'What is your gender?',\n",
       "       'Chocolate makes you.....', 'When is your birthday (date)?',\n",
       "       'Number of neighbors sitting around you?', 'Did you stand up?',\n",
       "       'What is your stress level (0-100)?', 'stress_processed',\n",
       "       'You can get 100 euros if you win a local DM competition, or we don’t hold any competitions and I give everyone some money (not the same amount!). How much do you think you would deserve then? ',\n",
       "       'money_processed', 'Give a random number',\n",
       "       'Time you went to be Yesterday', 'What makes a good day for you (1)?',\n",
       "       'What makes a good day for you (2)?', 'Good day 1', 'Good day 2',\n",
       "       'Unnamed: 22', 'Unnamed: 23', 'Unnamed: 24'],\n",
       "      dtype='object')"
      ]
     },
     "execution_count": 6,
     "metadata": {},
     "output_type": "execute_result"
    }
   ],
   "source": [
    "df.columns"
   ]
  },
  {
   "cell_type": "code",
   "execution_count": 76,
   "id": "b815460b",
   "metadata": {},
   "outputs": [],
   "source": []
  },
  {
   "cell_type": "code",
   "execution_count": 5,
   "id": "228c3d55",
   "metadata": {},
   "outputs": [
    {
     "name": "stdout",
     "output_type": "stream",
     "text": [
      "['MSc Artificial Intelligence VU' 'MSc Computer Science'\n",
      " 'MSc Computational Science' 'MSc Bioinformatics and Systems Biology'\n",
      " 'MSc Artificial Intelligence VU' 'MSc Artificial Intelligence VU'\n",
      " 'MSc Artificial Intelligence VU' 'MSc Artificial Intelligence VU'\n",
      " 'Duisenberg Honours Programme in Finance and Technology'\n",
      " 'MSc Artificial Intelligence VU' 'MSc Artificial Intelligence VU'\n",
      " 'MSc Business Analytics' 'MSc Artificial Intelligence VU' 'troll'\n",
      " 'MSc Artificial Intelligence VU'\n",
      " 'MSc Information Studies Data Science Track UvA'\n",
      " 'MSc Artificial Intelligence VU' 'MSc Artificial Intelligence VU'\n",
      " 'MSc Artificial Intelligence VU'\n",
      " 'MSc Econometrics and Operations Research'\n",
      " 'Duisenberg Honours Programme in Finance and Technology'\n",
      " 'MSc Computer Science' 'MSc Artificial Intelligence VU'\n",
      " 'MSc Artificial Intelligence VU' 'MSc Bioinformatics and Systems Biology'\n",
      " 'MSc Business Analytics' 'MSc Computational Science'\n",
      " 'MSc Computational Science' 'troll' 'MSc Computational Science'\n",
      " 'MSc Mathematics' 'MSc Artificial Intelligence VU'\n",
      " 'MSc Econometrics and Operations Research'\n",
      " 'MSc Artificial Intelligence VU' 'MSc Artificial Intelligence VU' '-'\n",
      " 'MSc Computer Science' 'MSc Artificial Intelligence VU'\n",
      " 'MSc Artificial Intelligence UvA'\n",
      " 'MSc Econometrics and Operations Research'\n",
      " 'MSc Artificial Intelligence VU' 'MSc Computational Science'\n",
      " 'MSc Artificial Intelligence VU' 'MSc Artificial Intelligence VU' '-'\n",
      " 'MSc Econometrics and Operations Research' 'MSc Computational Science'\n",
      " 'MSc Artificial Intelligence VU' 'MSc Bioinformatics and Systems Biology'\n",
      " 'MSc Artificial Intelligence VU' 'MSc Computational Science'\n",
      " 'MSc Artificial Intelligence VU' 'MSc Artificial Intelligence VU'\n",
      " 'MSc Business Analytics' 'MSc Artificial Intelligence VU'\n",
      " 'MSc Artificial Intelligence VU' 'MSc Bioinformatics and Systems Biology'\n",
      " 'MSc Computer Science' 'MSc Bioinformatics and Systems Biology'\n",
      " 'MSc Artificial Intelligence VU'\n",
      " 'MSc Econometrics and Operations Research'\n",
      " 'MSc Artificial Intelligence VU' 'MSc Artificial Intelligence VU' 'troll'\n",
      " 'MSc Computational Science' 'MSc Artificial Intelligence VU'\n",
      " 'MSc Bioinformatics and Systems Biology' 'MSc Computer Science'\n",
      " 'MSc Econometrics and Operations Research' 'MSc Computer Science'\n",
      " 'MSc Computer Science' 'MSc Business Analytics' 'MSc Computer Science'\n",
      " 'Duisenberg Honours Programme in Quantitative Risk Management'\n",
      " 'Medical Natural Sciences'\n",
      " 'Management, Policy Analysis and Entrepreneurship in the Health & Life Sciences'\n",
      " 'MSc Computational Science' 'MSc Computational Science' '-'\n",
      " 'MSc Artificial Intelligence VU' 'MSc Computational Science'\n",
      " 'MSc Artificial Intelligence VU' 'MSc Computer Science'\n",
      " 'MSc Business Analytics' 'MSc Artificial Intelligence VU'\n",
      " 'MSc Artificial Intelligence VU' 'Bachelor Computer Science'\n",
      " 'MSc Business Analytics' 'MSc Computer Science'\n",
      " 'Master Human Language Technology' 'troll'\n",
      " 'MSc Artificial Intelligence UvA'\n",
      " 'MSc Econometrics and Operations Research' 'MSc Computational Science'\n",
      " 'MSc Computer Science' 'MSc Artificial Intelligence VU'\n",
      " 'Duisenberg Honours Programme in Quantitative Risk Management'\n",
      " 'MSc Artificial Intelligence VU' 'MSc Computer Science'\n",
      " 'MSc Bioinformatics and Systems Biology' 'MSc Artificial Intelligence VU'\n",
      " 'MSc Parallel and Distributed Computer System' 'MSc Business Analytics'\n",
      " 'MSc Artificial Intelligence VU' 'MSc Artificial Intelligence VU' 'SEG'\n",
      " '-' 'MSc Artificial Intelligence VU' 'MSc Computer Science'\n",
      " 'MSc Computer Science' 'MSc Computer Science'\n",
      " 'MSc Artificial Intelligence VU' 'MSc Computer Science'\n",
      " 'MSc Computer Science' 'MSc Bioinformatics and Systems Biology'\n",
      " 'MSc Artificial Intelligence VU' 'MSc Computer Science'\n",
      " 'MSc Artificial Intelligence VU' 'MSc Artificial Intelligence VU'\n",
      " 'MSc Computational Science'\n",
      " 'Duisenberg Honours Programme in Quantitative Risk Management'\n",
      " 'MSc Artificial Intelligence VU' 'MSc Computational Science'\n",
      " 'MSc Artificial Intelligence VU' 'PhD' 'MSc Artificial Intelligence VU'\n",
      " 'MSc Artificial Intelligence VU' 'MSc Computational Science'\n",
      " 'MSc Artificial Intelligence VU' 'MSc Artificial Intelligence UvA'\n",
      " 'MSc Computer Science' 'MSc Artificial Intelligence VU'\n",
      " 'MSc Computational Science' 'MSc Artificial Intelligence VU' '-'\n",
      " 'MSc Information Studies Data Science Track UvA'\n",
      " 'MSc Bioinformatics and Systems Biology' 'MSc Artificial Intelligence VU'\n",
      " 'MSc Business Analytics' 'MSc Artificial Intelligence VU'\n",
      " 'MSc Artificial Intelligence VU' 'MSc Artificial Intelligence VU'\n",
      " 'MSc Bioinformatics and Systems Biology' 'MSc Finance'\n",
      " 'MSc Artificial Intelligence VU' 'MSc Computer Science'\n",
      " 'MSc Bioinformatics and Systems Biology' 'MSc Business Analytics'\n",
      " 'MSc Computational Science' 'MSc Computer Science' 'PhD'\n",
      " 'MSc Econometrics and Operations Research'\n",
      " 'MSc Artificial Intelligence VU' 'MSc Artificial Intelligence VU'\n",
      " 'MSc Information Studies Data Science Track UvA' 'MSc Business Analytics'\n",
      " 'MSc Artificial Intelligence VU' 'MSc Artificial Intelligence VU'\n",
      " 'MSc Artificial Intelligence VU' 'MSc Artificial Intelligence VU'\n",
      " 'MSc Artificial Intelligence VU'\n",
      " 'MSc Econometrics and Operations Research'\n",
      " 'MSc Econometrics and Operations Research'\n",
      " 'MSc Econometrics and Operations Research' 'MSc Computational Science'\n",
      " 'MSc Computer Science' 'MSc Artificial Intelligence VU'\n",
      " 'MSc Bioinformatics and Systems Biology'\n",
      " 'MSc Bioinformatics and Systems Biology' 'MSc Business Analytics'\n",
      " 'MSc Business Analytics' 'Engineering and Policy Analysis, TU Delft'\n",
      " 'MSc Artificial Intelligence VU' 'MSc Bioinformatics and Systems Biology'\n",
      " 'Duisenberg Honours Programme in Quantitative Risk Management'\n",
      " 'MSc Artificial Intelligence VU' 'MSc Artificial Intelligence VU'\n",
      " 'MSc Artificial Intelligence VU' 'MSc Business Analytics'\n",
      " 'MSc Artificial Intelligence VU' 'MSc Artificial Intelligence VU'\n",
      " 'MSc Econometrics and Operations Research'\n",
      " 'MSc Bioinformatics and Systems Biology' 'MSc Business analytics'\n",
      " 'MSc Artificial Intelligence VU' 'MSc Computer Science'\n",
      " 'MSc Computer Science' 'MSc Artificial Intelligence VU'\n",
      " 'Master Human Language Technology'\n",
      " 'MSc Econometrics and Operations Research' 'MSc Business analytics'\n",
      " 'MSc Bioinformatics and Systems Biology'\n",
      " 'Duisenberg Honours Programme in Finance and Technology'\n",
      " 'MSc Artificial Intelligence VU' 'MSc Computational Science'\n",
      " 'MSc Computer Science' 'MSc Business analytics' 'MSc Computer Science'\n",
      " 'MSc Computational Science' '-' 'MSc Business analytics'\n",
      " 'MSc Artificial Intelligence VU' 'troll' 'MSc Computational Science'\n",
      " 'MSc Artificial Intelligence VU'\n",
      " 'MSc Econometrics and Operations Research'\n",
      " 'MSc Artificial Intelligence VU' 'MSc Computer Science'\n",
      " 'MSc Business Analytics' 'MSc Artificial Intelligence VU'\n",
      " 'MSc Artificial Intelligence VU'\n",
      " 'Duisenberg Honours Programme in Quantitative Risk Management'\n",
      " 'MSc Bioinformatics and Systems Biology' 'MSc Artificial Intelligence VU'\n",
      " 'MSc Artificial Intelligence VU' 'MSc Computer Science'\n",
      " 'MSc Artificial Intelligence VU' 'MSc Computational Science'\n",
      " 'Duisenberg Honours Programme in Quantitative Risk Management'\n",
      " 'MSc Artificial Intelligence VU' 'MSc Business Analytics'\n",
      " 'MSc Computational Science' 'MSc Computer Science' 'MSc Computer Science'\n",
      " 'MSc Business analytics' 'MSc Business Analytics'\n",
      " 'MSc Artificial Intelligence VU' 'MSc Artificial Intelligence VU'\n",
      " 'MSc Artificial Intelligence VU' 'MSc Bioinformatics and Systems Biology'\n",
      " 'MSc Bioinformatics and Systems Biology' 'MSc Computational Science'\n",
      " 'MSc Artificial Intelligence VU' 'MSc Biomolecular Sciences'\n",
      " 'MSc Artificial Intelligence VU' 'MSc Artificial Intelligence VU'\n",
      " 'MSc Computer Science' 'MSc Artificial Intelligence VU'\n",
      " 'MSc Econometrics and Operations Research' 'MSc Computational Science'\n",
      " 'MSc Business Analytics' 'MSc Artificial Intelligence VU'\n",
      " 'MSc Artificial Intelligence VU' 'MSc Bioinformatics and Systems Biology'\n",
      " 'MSc Computer Science' 'MSc Bioinformatics and Systems Biology'\n",
      " 'MSc Computational Science'\n",
      " 'Duisenberg Honours Programme in Quantitative Risk Management'\n",
      " 'MSc Artificial Intelligence VU' 'MSc Artificial Intelligence VU'\n",
      " 'MSc Artificial Intelligence VU'\n",
      " 'MSc Econometrics and Operations Research' 'MSc Business analytics'\n",
      " 'MSc Computational Science' 'MSc Artificial Intelligence VU'\n",
      " 'MSc Computer Science' 'MSc Econometrics and Operations Research'\n",
      " 'MSc Artificial Intelligence VU' 'MSc Computer Science'\n",
      " 'MSc Computational Science' 'MSc Artificial Intelligence VU'\n",
      " 'MSc Artificial Intelligence VU' 'MSc Computational Science'\n",
      " 'Master Human Language Technology' 'MSc Computational Science'\n",
      " 'MSc Artificial Intelligence VU'\n",
      " 'MSc Econometrics and Operations Research'\n",
      " 'MSc Artificial Intelligence VU' 'MSc Computer Science'\n",
      " 'MSc Econometrics and Operations Research'\n",
      " 'MSc Artificial Intelligence VU' 'MSc Artificial Intelligence VU'\n",
      " 'MSc Artificial Intelligence VU' 'MSc Computer Science' 'MSc Economics'\n",
      " 'Management, Policy Analysis and Entrepreneurship in the Health & Life Sciences'\n",
      " 'MSc Business Analytics'\n",
      " 'Duisenberg Honours Programme in Quantitative Risk Management'\n",
      " 'MSc Computational Science' 'MSc Computational Science'\n",
      " 'MSc Computational Science' 'MSc Computational Science'\n",
      " 'MSc Business analytics' 'MSc Artificial Intelligence VU'\n",
      " 'MSc Business analytics' 'MSc Computer Science' 'MSc Computer Science'\n",
      " '-' 'MSc Computational Science' 'MSc Artificial Intelligence VU'\n",
      " 'MSc Artificial Intelligence VU' 'MSc Computational Science'\n",
      " 'MSc Bioinformatics and Systems Biology' 'MSc Biomedical Sciences'\n",
      " 'MSc Computer Science' 'MSc Artificial Intelligence VU'\n",
      " 'MSc Bioinformatics and Systems Biology'\n",
      " 'MSc Bioinformatics and Systems Biology' 'MSc Artificial Intelligence VU'\n",
      " 'MSc Artificial Intelligence VU' '-' 'MSc Computational Science'\n",
      " 'MSc Artificial Intelligence VU' 'MSc Business Analytics']\n"
     ]
    }
   ],
   "source": [
    "from collections import Counter\n",
    "from matplotlib import pyplot as plt\n",
    "progr=df[\"program_processed\"].values\n",
    "print(progr)\n"
   ]
  },
  {
   "cell_type": "code",
   "execution_count": 6,
   "id": "1880cfe9",
   "metadata": {},
   "outputs": [
    {
     "name": "stdout",
     "output_type": "stream",
     "text": [
      "Counter({'MSc Artificial Intelligence VU': 111, 'MSc Computer Science': 39, 'MSc Computational Science': 37, 'MSc Bioinformatics and Systems Biology': 24, 'MSc Business Analytics': 19, 'MSc Econometrics and Operations Research': 19, '-': 8, 'Duisenberg Honours Programme in Quantitative Risk Management': 8, 'MSc Business analytics': 8, 'troll': 5, 'Duisenberg Honours Programme in Finance and Technology': 3, 'MSc Information Studies Data Science Track UvA': 3, 'MSc Artificial Intelligence UvA': 3, 'Master Human Language Technology': 3, 'Management, Policy Analysis and Entrepreneurship in the Health & Life Sciences': 2, 'PhD': 2, 'MSc Mathematics': 1, 'Medical Natural Sciences': 1, 'Bachelor Computer Science': 1, 'MSc Parallel and Distributed Computer System': 1, 'SEG': 1, 'MSc Finance': 1, 'Engineering and Policy Analysis, TU Delft': 1, 'MSc Biomolecular Sciences': 1, 'MSc Economics': 1, 'MSc Biomedical Sciences': 1})\n"
     ]
    },
    {
     "data": {
      "text/plain": [
       "<BarContainer object of 26 artists>"
      ]
     },
     "execution_count": 6,
     "metadata": {},
     "output_type": "execute_result"
    },
    {
     "data": {
      "image/png": "[encoded data removed]",
      "text/plain": [
       "<Figure size 432x288 with 1 Axes>"
      ]
     },
     "metadata": {
      "needs_background": "light"
     },
     "output_type": "display_data"
    }
   ],
   "source": [
    "dict=Counter(progr)\n",
    "print(dict)\n",
    "\n",
    "keys = dict.keys()\n",
    "\n",
    "values = dict.values()\n",
    "\n",
    "\n",
    "plt.scatter(keys, values)\n",
    "plt.bar(keys,values)"
   ]
  },
  {
   "cell_type": "code",
   "execution_count": 13,
   "id": "ba5fd705",
   "metadata": {},
   "outputs": [
    {
     "data": {
      "image/png": "[encoded data removed]",
      "text/plain": [
       "<Figure size 432x288 with 1 Axes>"
      ]
     },
     "metadata": {},
     "output_type": "display_data"
    }
   ],
   "source": [
    "# Pie chart, where the slices will be ordered and plotted counter-clockwise:\n",
    "\n",
    "explode = (0, 0.1, 0, 0)  # only \"explode\" the 2nd slice (i.e. 'Hogs')\n",
    "\n",
    "fig1, ax1 = plt.subplots()\n",
    "ax1.pie(values, labels=keys, autopct='%1.1f%%',\n",
    "        shadow=True, startangle=90)\n",
    "ax1.axis('equal')  # Equal aspect ratio ensures that pie is drawn as a circle.\n",
    "\n",
    "plt.show()"
   ]
  },
  {
   "cell_type": "code",
   "execution_count": null,
   "id": "ee21d660",
   "metadata": {},
   "outputs": [],
   "source": []
  },
  {
   "cell_type": "code",
   "execution_count": 4,
   "id": "61f42b98",
   "metadata": {},
   "outputs": [
    {
     "data": {
      "text/plain": [
       "array(['0', '>100', '0', '20', '2', '48', '20', '100', '20', '50', '60',\n",
       "       '50', '>100', '65', '70', 'troll', '98', '34', '70', '15', '60',\n",
       "       '>100', '10', '90', '1', '70', '56', '69', '79', '33', '80', '10',\n",
       "       '100', '90', '70', '40', '69', '69', '45', '7', '33', '40', '>100',\n",
       "       '70', '20', '60', '0', '20', '10', '50', '5', '88', '60', '75',\n",
       "       '69', '34', '50', '99', '99', '30', '50', '20', '69', '34', '40',\n",
       "       '1', '65', 'troll', '80', '10', '100', '99', '>100', 'troll', '42',\n",
       "       '80', '50', '100', '60', '50', '10', '61', '100', '89', 'troll',\n",
       "       'troll', '100', '10', '0', '80', '>100', '60', '30', '>100', '100',\n",
       "       'troll', '80', '>100', '40', '10', '100', '10', '60', '44', '3',\n",
       "       '>100', '88', '100', '10', '50', '20', '5', '5', '10', '0', '40',\n",
       "       '40', '0', '3', '69', 'troll', '1', '10', '14', '10', '69', '40',\n",
       "       '0', '30', '60', '60', '50', '40', '30', '20', '75', 'troll', '68',\n",
       "       '22', '70', '30', 'troll', '47', '45', '75', '10', '80', '40',\n",
       "       '80', '10', '50', '33', '70', '30', '34', '20', '60', '70', '20',\n",
       "       '75', '20', '15', '100', '0', '20', '80', '36', '50', '40', '60',\n",
       "       '12', '60', '70', '70', '75', '60', '100', '100', '20', '1', '69',\n",
       "       '85', '0', '50', '55', '23', '40', '70', '7.5', '70', '11', '70',\n",
       "       '100', '11', '1', '80', '60', '80', '30', '59', '2', '60', '25',\n",
       "       '23', '40', '20', '40', '100', '20', '37', '1', '>100', '12', '80',\n",
       "       '50', '50', '15', '29', '80', '72', '70', '69', '77', '32', '40',\n",
       "       '45', '5', '10', '33', '30', '50', '10', '70', '30', '33', '81',\n",
       "       '10', 'troll', '0', '19', '50', '10', '100', '80', '80', '0', '30',\n",
       "       '69', '80', '5', '80', '25', '80', '12', '30', '100', '25', '30',\n",
       "       '75', '70', '30', '99', '30', '15', '70', '66', '10', '87', '50',\n",
       "       'troll', '10', '70', '100', '70', '>100', '50', '0', 'troll', '2',\n",
       "       '50', '50', '65', '10', '30', '0', '38', '50', '1', '80', '-',\n",
       "       '42', '10', '60', '20', '60', '0', '62', '40', '50', '30', '9',\n",
       "       'troll', '70', '66'], dtype=object)"
      ]
     },
     "execution_count": 4,
     "metadata": {},
     "output_type": "execute_result"
    }
   ],
   "source": [
    "stress=df[\"stress_processed\"].values\n",
    "stress"
   ]
  },
  {
   "cell_type": "code",
   "execution_count": 41,
   "id": "e1cdb1c3",
   "metadata": {},
   "outputs": [],
   "source": [
    "from collections import defaultdict"
   ]
  },
  {
   "cell_type": "code",
   "execution_count": 73,
   "id": "1e006498",
   "metadata": {
    "scrolled": false
   },
   "outputs": [],
   "source": [
    "\n",
    "\n",
    "dict = defaultdict(int)\n",
    "\n",
    "for i in stress:\n",
    "    if \"100\" in i:\n",
    "        dict['>=100']+=1 \n",
    "        continue\n",
    "    if i==\"troll\":\n",
    "        dict[\"troll\"]+=1\n",
    "        continue\n",
    "    if i==\"-\":\n",
    "        dict[\"missing\"]=+1\n",
    "        continue\n",
    "    else:\n",
    "        dict[str(int(float(i)/10)*10)+\"-\"+str(int(float(i)/10)*10+9)]+=1"
   ]
  },
  {
   "cell_type": "code",
   "execution_count": 72,
   "id": "eb530246",
   "metadata": {},
   "outputs": [
    {
     "data": {
      "text/plain": [
       "defaultdict(int,\n",
       "            {'0-9': 34,\n",
       "             '>100': 28,\n",
       "             '20-29': 23,\n",
       "             '40-49': 23,\n",
       "             '50-59': 25,\n",
       "             '60-69': 35,\n",
       "             '70-79': 29,\n",
       "             'troll': 13,\n",
       "             '90-99': 7,\n",
       "             '30-39': 29,\n",
       "             '10-19': 33,\n",
       "             '80-89': 24,\n",
       "             'missing': 1})"
      ]
     },
     "execution_count": 72,
     "metadata": {},
     "output_type": "execute_result"
    }
   ],
   "source": [
    "dict"
   ]
  },
  {
   "cell_type": "code",
   "execution_count": 80,
   "id": "6d681c39",
   "metadata": {},
   "outputs": [
    {
     "data": {
      "text/plain": [
       "<BarContainer object of 13 artists>"
      ]
     },
     "execution_count": 80,
     "metadata": {},
     "output_type": "execute_result"
    },
    {
     "data": {
      "image/png": "[encoded data removed]",
      "text/plain": [
       "<Figure size 720x216 with 1 Axes>"
      ]
     },
     "metadata": {
      "needs_background": "light"
     },
     "output_type": "display_data"
    }
   ],
   "source": [
    "keys = dict.keys()\n",
    "\n",
    "values = dict.values()\n",
    "\n",
    "plt.figure(figsize=(10, 3)) \n",
    "plt.bar(keys, values, align='edge', width=0.2)"
   ]
  },
  {
   "cell_type": "code",
   "execution_count": null,
   "id": "5b561daf",
   "metadata": {},
   "outputs": [],
   "source": []
  },
  {
   "cell_type": "code",
   "execution_count": 32,
   "id": "c5d040e7",
   "metadata": {},
   "outputs": [],
   "source": [
    "import csv"
   ]
  },
  {
   "cell_type": "code",
   "execution_count": 28,
   "id": "668efb7c",
   "metadata": {},
   "outputs": [],
   "source": [
    "prog=pd.DataFrame(stress)"
   ]
  },
  {
   "cell_type": "code",
   "execution_count": 31,
   "id": "db16328a",
   "metadata": {},
   "outputs": [],
   "source": [
    "\n",
    "prog.to_csv(\"./progss.csv\",index=False)\n"
   ]
  },
  {
   "cell_type": "code",
   "execution_count": null,
   "id": "b6fc5f53",
   "metadata": {},
   "outputs": [],
   "source": []
  }
 ],
 "metadata": {
  "kernelspec": {
   "display_name": "Python 3",
   "language": "python",
   "name": "python3"
  },
  "language_info": {
   "codemirror_mode": {
    "name": "ipython",
    "version": 3
   },
   "file_extension": ".py",
   "mimetype": "text/x-python",
   "name": "python",
   "nbconvert_exporter": "python",
   "pygments_lexer": "ipython3",
   "version": "3.8.10"
  }
 },
 "nbformat": 4,
 "nbformat_minor": 5
}
